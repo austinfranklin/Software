{
 "cells": [
  {
   "cell_type": "code",
   "execution_count": 1,
   "id": "d887ef7c-586e-4d81-9ab5-d1613848e432",
   "metadata": {},
   "outputs": [],
   "source": [
    "import numpy as np\n",
    "import scipy.io.wavfile\n",
    "import scipy.signal as signal\n",
    "import matplotlib.pyplot as mp\n",
    "\n",
    "fs, audioin1 = scipy.io.wavfile.read('guitar.wav')\n",
    "guitar1 = audioin1.astype(float)\n",
    "guitar = guitar1 / np.max(np.abs(guitar1))\n",
    "\n",
    "fs, audioin2 = scipy.io.wavfile.read('close.wav')\n",
    "balloon1 = audioin2.astype(float)\n",
    "balloon1 = balloon1 / np.max(np.abs(balloon1))\n",
    "\n",
    "fs, audioin2 = scipy.io.wavfile.read('middle.wav')\n",
    "balloon2 = audioin2.astype(float)\n",
    "balloon2 = balloon2 / np.max(np.abs(balloon2))\n",
    "\n",
    "fs, audioin2 = scipy.io.wavfile.read('far.wav')\n",
    "balloon3 = audioin2.astype(float)\n",
    "balloon3 = balloon3 / np.max(np.abs(balloon3))\n",
    "\n",
    "convolver = np.convolve(guitar1, balloon3)\n",
    "convolver = convolver / np.max(np.abs(convolver))\n",
    "\n",
    "intSignal = np.int16(convolver * 32767)\n",
    "scipy.io.wavfile.write('convolution.wav', fs, intSignal)"
   ]
  },
  {
   "cell_type": "code",
   "execution_count": null,
   "id": "c4ca66d0-b501-460d-a9da-095de204b29f",
   "metadata": {},
   "outputs": [],
   "source": []
  }
 ],
 "metadata": {
  "kernelspec": {
   "display_name": "Python 3",
   "language": "python",
   "name": "python3"
  },
  "language_info": {
   "codemirror_mode": {
    "name": "ipython",
    "version": 3
   },
   "file_extension": ".py",
   "mimetype": "text/x-python",
   "name": "python",
   "nbconvert_exporter": "python",
   "pygments_lexer": "ipython3",
   "version": "3.8.8"
  }
 },
 "nbformat": 4,
 "nbformat_minor": 5
}
